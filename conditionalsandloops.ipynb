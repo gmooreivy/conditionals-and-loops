{
 "cells": [
  {
   "cell_type": "code",
   "execution_count": null,
   "id": "627029ee-a6c5-4f9d-92aa-7012cc0c90cd",
   "metadata": {},
   "outputs": [
    {
     "name": "stdout",
     "output_type": "stream",
     "text": [
      "You got it!\n"
     ]
    }
   ],
   "source": [
    "# 4.1\n",
    "secret = 7\n",
    "guess = 7\n",
    "\n",
    "if guess > 10 or guess < 1 :\n",
    "    print(\"The secret is somewhere 1-10\")\n",
    "elif secret > guess :\n",
    "    print(\"too low\")\n",
    "elif secret < guess :\n",
    "    print(\"too high\")\n",
    "else :\n",
    "    print(\"just right\")"
   ]
  },
  {
   "cell_type": "code",
   "execution_count": null,
   "id": "9749a5c8-4137-4290-bd5f-da3f781c041c",
   "metadata": {},
   "outputs": [
    {
     "name": "stdout",
     "output_type": "stream",
     "text": [
      "It's a pea!\n"
     ]
    }
   ],
   "source": [
    "# 4.2\n",
    "green = True\n",
    "small = True\n",
    "\n",
    "if green :\n",
    "    if small :\n",
    "        print(\"It's a pea!\")\n",
    "    else :\n",
    "        print(\"It's a watermelon!\")\n",
    "else :\n",
    "    if small :\n",
    "        print(\"It's a cherry!\")\n",
    "    else :\n",
    "        print(\"It's a pumpkin!\")"
   ]
  },
  {
   "cell_type": "code",
   "execution_count": 5,
   "id": "a7ca4145-8e85-4e35-ad72-530ecbbb5814",
   "metadata": {},
   "outputs": [
    {
     "name": "stdout",
     "output_type": "stream",
     "text": [
      "3\n",
      "2\n",
      "1\n",
      "0\n"
     ]
    }
   ],
   "source": [
    "# 6.1\n",
    "list = [3, 2, 1, 0]\n",
    "for i in list :\n",
    "    print(i)"
   ]
  },
  {
   "cell_type": "code",
   "execution_count": null,
   "id": "d5126c92-f5b9-42f4-8c6d-a9120ba68d7a",
   "metadata": {},
   "outputs": [
    {
     "name": "stdout",
     "output_type": "stream",
     "text": [
      "too low\n",
      "too low\n",
      "too low\n",
      "too low\n",
      "too low\n",
      "too low\n",
      "found it\n"
     ]
    }
   ],
   "source": [
    "# 6.2\n",
    "guess_me = 7\n",
    "number = 1\n",
    "while True:\n",
    "    if number < guess_me :\n",
    "        print(\"too low\")\n",
    "    elif number > guess_me :\n",
    "        print(\"oops\")\n",
    "        break\n",
    "    elif number == guess_me :\n",
    "        print(\"found it!\")\n",
    "        break\n",
    "    number += 1"
   ]
  },
  {
   "cell_type": "code",
   "execution_count": null,
   "id": "77c2861e-f4bc-4743-ae45-df340b7f05a3",
   "metadata": {},
   "outputs": [
    {
     "name": "stdout",
     "output_type": "stream",
     "text": [
      "too low\n",
      "too low\n",
      "too low\n",
      "too low\n",
      "too low\n",
      "found it\n"
     ]
    }
   ],
   "source": [
    "guess_me = 5\n",
    "\n",
    "for n in range(10) :\n",
    "    if n < guess_me :\n",
    "        print('too low')\n",
    "    elif n == guess_me :\n",
    "        print('found it!')\n",
    "        break\n",
    "    elif n > guess_me :\n",
    "        print('oops')\n",
    "        break"
   ]
  }
 ],
 "metadata": {
  "kernelspec": {
   "display_name": "base",
   "language": "python",
   "name": "python3"
  },
  "language_info": {
   "codemirror_mode": {
    "name": "ipython",
    "version": 3
   },
   "file_extension": ".py",
   "mimetype": "text/x-python",
   "name": "python",
   "nbconvert_exporter": "python",
   "pygments_lexer": "ipython3",
   "version": "3.13.5"
  }
 },
 "nbformat": 4,
 "nbformat_minor": 5
}
